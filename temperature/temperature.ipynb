{
 "cells": [
  {
   "cell_type": "markdown",
   "metadata": {},
   "source": [
    "# Processor temperature\n",
    "\n",
    "We have a temperature sensor in the processor of our company's server. We want to analyze the data provided to determinate whether we should change the cooling system for a better one. It is expensive and as a data analyst we cannot make decisions without a basis.\n",
    "\n",
    "We provide the temperatures measured throughout the 24 hours of a day in a list-type data structure composed of 24 integers:\n",
    "```\n",
    "temperatures_C = [33,66,65,0,59,60,62,64,70,76,80,69,80,83,68,79,61,53,50,49,53,48,45,39]\n",
    "```\n",
    "\n",
    "## Goals\n",
    "\n",
    "1. Treatment of lists\n",
    "2. Use of loop or list comprenhention\n",
    "3. Calculation of the mean, minimum and maximum.\n",
    "4. Filtering of lists.\n",
    "5. Interpolate an outlier.\n",
    "6. Logical operators.\n",
    "7. Print"
   ]
  },
  {
   "cell_type": "markdown",
   "metadata": {},
   "source": [
    "## Temperature graph\n",
    "To facilitate understanding, the temperature graph is shown below. You do not have to do anything in this section. The test starts in **Problem**."
   ]
  },
  {
   "cell_type": "code",
   "execution_count": 78,
   "metadata": {},
   "outputs": [
    {
     "data": {
      "text/plain": [
       "Text(0.5, 1.0, 'Temperatures of our server throughout the day')"
      ]
     },
     "execution_count": 78,
     "metadata": {},
     "output_type": "execute_result"
    },
    {
     "data": {
      "image/png": "[encoded data removed]",
      "text/plain": [
       "<Figure size 432x288 with 1 Axes>"
      ]
     },
     "metadata": {
      "needs_background": "light"
     },
     "output_type": "display_data"
    }
   ],
   "source": [
    "# import\n",
    "import matplotlib.pyplot as plt\n",
    "%matplotlib inline\n",
    "\n",
    "# axis x, axis y\n",
    "y = [33,66,65,0,59,60,62,64,70,76,80,81,80,83,90,79,61,53,50,49,53,48,45,39]\n",
    "x = list(range(len(y)))\n",
    "\n",
    "# plot\n",
    "plt.plot(x, y)\n",
    "plt.axhline(y=70, linewidth=1, color='r')\n",
    "plt.xlabel('hours')\n",
    "plt.ylabel('Temperature ºC')\n",
    "plt.title('Temperatures of our server throughout the day')"
   ]
  },
  {
   "cell_type": "markdown",
   "metadata": {},
   "source": [
    "## Problem\n",
    "\n",
    "If the sensor detects more than 4 hours with temperatures greater than or equal to 70ºC or any temperature above 80ºC or the average exceeds 65ºC throughout the day, we must give the order to change the cooling system to avoid damaging the processor.\n",
    "\n",
    "We will guide you step by step so you can make the decision by calculating some intermediate steps:\n",
    "\n",
    "1. Minimum temperature\n",
    "2. Maximum temperature\n",
    "3. Temperatures equal to or greater than 70ºC\n",
    "4. Average temperatures throughout the day.\n",
    "5. If there was a sensor failure at 03:00 and we did not capture the data, how would you estimate the value that we lack? Correct that value in the list of temperatures.\n",
    "6. Bonus: Our maintenance staff is from the United States and does not understand the international metric system. Pass temperatures to Degrees Fahrenheit.\n",
    "\n",
    "Formula: F = 1.8 * C + 32\n",
    "\n",
    "web: https://en.wikipedia.org/wiki/Conversion_of_units_of_temperature\n"
   ]
  },
  {
   "cell_type": "code",
   "execution_count": 86,
   "metadata": {},
   "outputs": [
    {
     "name": "stdout",
     "output_type": "stream",
     "text": [
      "minimum temperature during the day is: 33\n",
      "maximum temperature during the day is: 90\n",
      "instances of temperature exceeding above 70 degree celsius: 76\n",
      "instances of temperature exceeding above 70 degree celsius: 80\n",
      "instances of temperature exceeding above 70 degree celsius: 81\n",
      "instances of temperature exceeding above 70 degree celsius: 80\n",
      "instances of temperature exceeding above 70 degree celsius: 83\n",
      "instances of temperature exceeding above 70 degree celsius: 90\n",
      "instances of temperature exceeding above 70 degree celsius: 79\n",
      "mean temperature during the day is: 62.833333333333336\n",
      "estimated temperature during 3 oclock is: 62.0\n",
      "62.0\n",
      "145.1\n",
      "temperatures after converting to fahrenheit are: [91.4, 150.8, 149.0, 143.60000000000002, 138.2, 140.0, 143.60000000000002, 147.2, 158.0, 168.8, 176.0, 177.8, 176.0, 181.4, 194.0, 174.20000000000002, 141.8, 127.4, 122.0, 120.2, 127.4, 118.4, 113.0, 102.2]\n"
     ]
    }
   ],
   "source": [
    "# assign a variable to the list of temperatures\n",
    "\n",
    "# 1. Calculate the minimum of the list and print the value using print()\n",
    "temp_min = min(y)\n",
    "print('minimum temperature during the day is:', temp_min)\n",
    "\n",
    "# 2. Calculate the maximum of the list and print the value using print()\n",
    "temp_max = max(y)\n",
    "print('maximum temperature during the day is:', temp_max)\n",
    "\n",
    "# 3. Items in the list that are greater than 70ºC and print the result\n",
    "for x in y:\n",
    "    if x>70:\n",
    "        print('instances of temperature exceeding above 70 degree celsius:', x)\n",
    "\n",
    "# 4. Calculate the mean temperature throughout the day and print the result\n",
    "mean_temp = sum(y)/len(y)\n",
    "print('mean temperature during the day is:', mean_temp)\n",
    "\n",
    "# 5.1 Solve the fault in the sensor by estimating a value\n",
    "temp_fault = (y[2] + y[4]) / 2\n",
    "print('estimated temperature during 3 oclock is:', temp_fault)\n",
    "\n",
    "# 5.2 Update of the estimated value at 03:00 on the list\n",
    "y[3] = temp_fault\n",
    "print(y[3])\n",
    "\n",
    "\n",
    "# Bonus: convert the list of ºC to ºFarenheit\n",
    "z = []\n",
    "for x in y:\n",
    "    fh = x * 1.8 + 32\n",
    "    z.append(fh)\n",
    "\n",
    "mean_temp_fahrenheit= sum(z)/len(z)\n",
    "\n",
    "print('temperatures after converting to fahrenheit are:', z)\n",
    "    \n"
   ]
  },
  {
   "cell_type": "markdown",
   "metadata": {},
   "source": [
    "## Take the decision\n",
    "Remember that if the sensor detects more than 4 hours with temperatures greater than or equal to 70ºC or any temperature higher than 80ºC or the average was higher than 65ºC throughout the day, we must give the order to change the cooling system to avoid the danger of damaging the equipment:\n",
    "* more than 4 hours with temperatures greater than or equal to 70ºC\n",
    "* some temperature higher than 80ºC\n",
    "* average was higher than 65ºC throughout the day\n",
    "If any of these three is met, the cooling system must be changed.\n"
   ]
  },
  {
   "cell_type": "code",
   "execution_count": 80,
   "metadata": {},
   "outputs": [
    {
     "name": "stdout",
     "output_type": "stream",
     "text": [
      "temperature exceeding safe limit for more than 4 hours a day!\n",
      "some temperatures are higher than 80C\n",
      "Change of cooling system is needed!\n"
     ]
    }
   ],
   "source": [
    "# Print True or False depending on whether you would change the cooling system or not\n",
    "hour4_count = 0\n",
    "for x in y:\n",
    "    if x > 70:\n",
    "        hour4_count += 1\n",
    "if hour4_count >4:\n",
    "    print('temperature exceeding safe limit for more than 4 hours a day!')\n",
    "        \n",
    "c80 = False\n",
    "for x in y:\n",
    "    if x > 80:\n",
    "        c80 = True\n",
    "if c80 == True:\n",
    "    print('some temperatures are higher than 80C')\n",
    "        \n",
    "c65 = False     \n",
    "z = sum(y)/len(y)\n",
    "if z > 65:\n",
    "    c65 = True\n",
    "if c65 == True:\n",
    "    print('average temperature is higher than 65C')\n",
    "\n",
    "if hour4_count >4 or C80 == True or C65 == True:\n",
    "    print ('Change of cooling system is needed!')\n",
    "    \n",
    "    \n",
    "    "
   ]
  },
  {
   "cell_type": "markdown",
   "metadata": {},
   "source": [
    "## Future improvements\n",
    "1. We want the hours (not the temperatures) whose temperature exceeds 70ºC\n",
    "2. Condition that those hours are more than 4 consecutive and consecutive, not simply the sum of the whole set. Is this condition met?\n",
    "3. Average of each of the lists (ºC and ºF). How they relate?\n",
    "4. Standard deviation of each of the lists. How they relate?\n"
   ]
  },
  {
   "cell_type": "code",
   "execution_count": 81,
   "metadata": {},
   "outputs": [
    {
     "name": "stdout",
     "output_type": "stream",
     "text": [
      "[9, 10, 11, 12, 13, 14, 15]\n"
     ]
    }
   ],
   "source": [
    "# 1. We want the hours (not the temperatures) whose temperature exceeds 70ºC\n",
    "hours_exceed70 = []\n",
    "x = 0\n",
    "for i in y:\n",
    "    if i > 70:\n",
    "        hours_exceed70.append(x)\n",
    "    x +=1  \n",
    "print(hours_exceed70)\n"
   ]
  },
  {
   "cell_type": "code",
   "execution_count": 83,
   "metadata": {},
   "outputs": [
    {
     "name": "stdout",
     "output_type": "stream",
     "text": [
      "the consecutive numbers of hours when the CPU exceed 70 are: 6\n"
     ]
    }
   ],
   "source": [
    "# 2. Condition that those hours are more than 4 consecutive and consecutive, not simply the sum of the whole set. Is this condition met?\n",
    "consecutive = 0\n",
    "start = 0\n",
    "for xx in hours_exceed70:\n",
    "    if xx - start == 1:\n",
    "        consecutive += 1\n",
    "    else:\n",
    "        consecutive = 0\n",
    "    start = xx\n",
    "if consecutive > 4:\n",
    "    print('the consecutive numbers of hours when the CPU exceed 70 are:',consecutive)\n",
    "    \n"
   ]
  },
  {
   "cell_type": "code",
   "execution_count": 88,
   "metadata": {},
   "outputs": [
    {
     "name": "stdout",
     "output_type": "stream",
     "text": [
      "The relation from Celsius to Fahrenheit is: 0.4330346887204227\n"
     ]
    }
   ],
   "source": [
    "# 3. Average of each of the lists (ºC and ºF). How they relate?\n",
    "relation_c_f = mean_temp / mean_temp_fahrenheit\n",
    "\n",
    "print('The relation from Celsius to Fahrenheit is:', relation_c_f)\n"
   ]
  },
  {
   "cell_type": "code",
   "execution_count": 94,
   "metadata": {},
   "outputs": [
    {
     "name": "stdout",
     "output_type": "stream",
     "text": [
      "Standard deviation of celsius is: 14.94821980579356\n",
      "Standard deviation of fahrenheit is: 26.906795650428407\n",
      "relation from fahrenheit to celsius is: 1.8\n"
     ]
    }
   ],
   "source": [
    "# 4. Standard deviation of each of the lists. How they relate?\n",
    "import statistics\n",
    "stdev_c = statistics.stdev(y)\n",
    "stdev_f = statistics.stdev(z)\n",
    "relation_stdev_cf = stdev_f / stdev_c\n",
    "\n",
    "print('Standard deviation of celsius is:',stdev_c)\n",
    "print('Standard deviation of fahrenheit is:',stdev_f)\n",
    "print('relation from fahrenheit to celsius is:',relation_stdev_cf)\n",
    "\n",
    "\n"
   ]
  },
  {
   "cell_type": "code",
   "execution_count": 3,
   "metadata": {},
   "outputs": [
    {
     "name": "stdout",
     "output_type": "stream",
     "text": [
      "[0, 1, 2, 3, 4, 5, 6, 7, 8, 9, 10, 11, 12, 13, 14, 15, 16, 17, 18, 19, 20, 21, 22, 23]\n"
     ]
    },
    {
     "data": {
      "text/plain": [
       "[<matplotlib.lines.Line2D at 0x279e7591940>]"
      ]
     },
     "execution_count": 3,
     "metadata": {},
     "output_type": "execute_result"
    },
    {
     "data": {
      "image/png": "[encoded data removed]",
      "text/plain": [
       "<Figure size 432x288 with 1 Axes>"
      ]
     },
     "metadata": {
      "needs_background": "light"
     },
     "output_type": "display_data"
    }
   ],
   "source": []
  },
  {
   "cell_type": "code",
   "execution_count": null,
   "metadata": {},
   "outputs": [],
   "source": []
  }
 ],
 "metadata": {
  "kernelspec": {
   "display_name": "Python 3",
   "language": "python",
   "name": "python3"
  },
  "language_info": {
   "codemirror_mode": {
    "name": "ipython",
    "version": 3
   },
   "file_extension": ".py",
   "mimetype": "text/x-python",
   "name": "python",
   "nbconvert_exporter": "python",
   "pygments_lexer": "ipython3",
   "version": "3.8.3"
  }
 },
 "nbformat": 4,
 "nbformat_minor": 2
}
